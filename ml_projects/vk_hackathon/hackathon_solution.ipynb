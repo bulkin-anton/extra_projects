{
  "nbformat": 4,
  "nbformat_minor": 0,
  "metadata": {
    "colab": {
      "provenance": [],
      "toc_visible": true
    },
    "kernelspec": {
      "name": "python3",
      "display_name": "Python 3"
    },
    "language_info": {
      "name": "python"
    }
  },
  "cells": [
    {
      "cell_type": "markdown",
      "source": [
        "## Необходимые импорты"
      ],
      "metadata": {
        "id": "n6wv8jCd9N-S"
      }
    },
    {
      "cell_type": "code",
      "execution_count": null,
      "metadata": {
        "id": "2lF6VBkr9InC"
      },
      "outputs": [],
      "source": [
        "import os\n",
        "import zipfile\n",
        "import gzip\n",
        "import shutil\n",
        "import gdown\n",
        "\n",
        "import pandas as pd\n",
        "import numpy as np\n",
        "from scipy import sparse\n",
        "\n",
        "from sklearn.impute import SimpleImputer\n",
        "from sklearn.preprocessing import QuantileTransformer\n",
        "from sklearn.feature_extraction import FeatureHasher\n",
        "from sklearn.decomposition import TruncatedSVD\n",
        "from sklearn.metrics import roc_auc_score\n",
        "\n",
        "import lightgbm as lgb"
      ]
    },
    {
      "cell_type": "markdown",
      "source": [
        "## Загрузка данных"
      ],
      "metadata": {
        "id": "4sGZH2l1CnKE"
      }
    },
    {
      "cell_type": "code",
      "source": [
        "import os\n",
        "\n",
        "if not(os.path.exists('vk-predict-cmc-hackathon.zip')):\n",
        "    ! pip install kaggle\n",
        "    ! kaggle competitions download -c vk-predict-cmc-hackathonv"
      ],
      "metadata": {
        "id": "xmG34Rp_CKjv"
      },
      "execution_count": null,
      "outputs": []
    },
    {
      "cell_type": "code",
      "source": [
        "archive_path = 'vk-predict-cmc-hackathon.zip'\n",
        "target_file = 'train.csv'\n",
        "\n",
        "if not os.path.exists(target_file):\n",
        "    if not os.path.exists(archive_path):\n",
        "        raise FileNotFoundError(f'Не найден архив: {archive_path}')\n",
        "    with zipfile.ZipFile(archive_path, 'r') as z:\n",
        "        z.extractall('.')\n",
        "    print(f'Файл {target_file} успешно извлечён из {archive_path}')\n",
        "else:\n",
        "    print(f'Файл {target_file} уже существует — распаковка не нужна')"
      ],
      "metadata": {
        "id": "_nUM714MCUHm"
      },
      "execution_count": null,
      "outputs": []
    },
    {
      "cell_type": "code",
      "source": [
        "FILE_ID = '15Aw_wF1JeiShnZ2vSccLWLnuJdRVMRep'\n",
        "GZ_NAME = 'text_data.tsv.gz'\n",
        "TSV_NAME = 'text_data.tsv'\n",
        "\n",
        "if not os.path.exists(TSV_NAME):\n",
        "    url = f'https://drive.google.com/uc?export=download&id={FILE_ID}'\n",
        "    gdown.download(url, GZ_NAME, quiet=False)\n",
        "    with gzip.open(GZ_NAME, 'rb') as f_in, open(TSV_NAME, 'wb') as f_out:\n",
        "        shutil.copyfileobj(f_in, f_out)\n",
        "    print(f'{TSV_NAME} успешно получен из {GZ_NAME}')\n",
        "else:\n",
        "    print(f'{TSV_NAME} уже существует, пропускаем загрузку и распаковку')"
      ],
      "metadata": {
        "id": "yTQHAd1TCf3a"
      },
      "execution_count": null,
      "outputs": []
    },
    {
      "cell_type": "markdown",
      "source": [
        "## Загрузка с downcast"
      ],
      "metadata": {
        "id": "tDUA_o3V9YRq"
      }
    },
    {
      "cell_type": "code",
      "source": [
        "dtype_train = {f'feature_{i}': np.float32 for i in range(1367)}\n",
        "dtype_train['target'] = np.int8\n",
        "data_train = pd.read_csv('train.csv', dtype=dtype_train)\n",
        "dtype_test = {**dtype_train, 'index': np.int32}\n",
        "data_test  = pd.read_csv('test.csv', dtype=dtype_test)\n",
        "text_data = pd.read_csv('text_data.tsv', sep='\\t', dtype={'index': np.int32, 'word_count': str})"
      ],
      "metadata": {
        "id": "-BdOqGzd9Wjd"
      },
      "execution_count": null,
      "outputs": []
    },
    {
      "cell_type": "markdown",
      "source": [
        "## Numeric features → median → normal_quantile → CSR"
      ],
      "metadata": {
        "id": "jpdb8vKM9eOn"
      }
    },
    {
      "cell_type": "code",
      "source": [
        "num_cols = [c for c in data_train.columns if c.startswith('feature_')]\n",
        "\n",
        "imp = SimpleImputer(strategy='median')\n",
        "qt  = QuantileTransformer(output_distribution='normal', n_quantiles=500, random_state=42)\n",
        "\n",
        "Xn_tr = imp.fit_transform(data_train[num_cols])\n",
        "Xn_tr = qt.fit_transform(Xn_tr)\n",
        "Xn_tr = sparse.csr_matrix(Xn_tr.astype(np.float32))\n",
        "\n",
        "Xn_te = imp.transform(data_test[num_cols])\n",
        "Xn_te = qt.transform(Xn_te)\n",
        "Xn_te = sparse.csr_matrix(Xn_te.astype(np.float32))"
      ],
      "metadata": {
        "id": "XPbUL2C99dJ_"
      },
      "execution_count": null,
      "outputs": []
    },
    {
      "cell_type": "markdown",
      "source": [
        "## Text features → FeatureHasher → SVD → CSR"
      ],
      "metadata": {
        "id": "HEYaTe1S9s3V"
      }
    },
    {
      "cell_type": "markdown",
      "source": [
        "### Функция обработки тектса в словари"
      ],
      "metadata": {
        "id": "qLpTyOCo-HHd"
      }
    },
    {
      "cell_type": "code",
      "source": [
        "def gen_dicts(series):\n",
        "    for s in series:\n",
        "        parts = s.split()\n",
        "        it = iter(parts)\n",
        "        d = {}\n",
        "        for tok, cnt in zip(it, it):\n",
        "            d[tok] = int(cnt)\n",
        "        yield d"
      ],
      "metadata": {
        "id": "BEBz_Tey-OXX"
      },
      "execution_count": null,
      "outputs": []
    },
    {
      "cell_type": "markdown",
      "source": [
        "### Основная предобработка"
      ],
      "metadata": {
        "id": "ZejP2tsZ-QE1"
      }
    },
    {
      "cell_type": "code",
      "source": [
        "text_data['word_count'] = text_data['word_count'].fillna('')\n",
        "\n",
        "hasher = FeatureHasher(n_features=2**14, input_type='dict')\n",
        "Xh_tr = hasher.transform(gen_dicts(text_data.set_index('index').reindex(data_train['index'], fill_value='')['word_count']))\n",
        "\n",
        "svd = TruncatedSVD(n_components=50, random_state=42)\n",
        "Xsv_tr = svd.fit_transform(Xh_tr).astype(np.float32)\n",
        "\n",
        "Xsv_tr = sparse.csr_matrix(Xsv_tr)\n",
        "\n",
        "Xh_te = hasher.transform(gen_dicts(text_data.set_index('index').reindex(data_test['index'], fill_value='')['word_count']))\n",
        "Xsv_te = svd.transform(Xh_te).astype(np.float32)\n",
        "\n",
        "Xsv_te = sparse.csr_matrix(Xsv_te)"
      ],
      "metadata": {
        "id": "3o1-us7x9tWO"
      },
      "execution_count": null,
      "outputs": []
    },
    {
      "cell_type": "markdown",
      "source": [
        "## Создание итогового датасета из CSR"
      ],
      "metadata": {
        "id": "PR5U5qVx959E"
      }
    },
    {
      "cell_type": "code",
      "source": [
        "X_train = sparse.hstack([Xn_tr, Xsv_tr], format='csr')\n",
        "X_test  = sparse.hstack([Xn_te, Xsv_te], format='csr')\n",
        "y_train = data_train['target'].values"
      ],
      "metadata": {
        "id": "RP_Tpp3696MV"
      },
      "execution_count": null,
      "outputs": []
    },
    {
      "cell_type": "markdown",
      "source": [
        "## LightGBM с CV"
      ],
      "metadata": {
        "id": "Nk_Qt0Z6-gdi"
      }
    },
    {
      "cell_type": "code",
      "source": [
        "params = {\n",
        "    'objective': 'binary',\n",
        "    'metric': 'auc',\n",
        "    'boosting_type': 'gbdt',\n",
        "    'device': 'gpu',\n",
        "    'learning_rate': 0.01,\n",
        "    'num_leaves': 128,\n",
        "    'min_data_in_leaf': 30,\n",
        "    'feature_fraction': 0.8,\n",
        "    'bagging_fraction': 0.8,\n",
        "    'bagging_freq': 1,\n",
        "    'lambda_l1': 1.0,\n",
        "    'lambda_l2': 1.0,\n",
        "    'is_unbalance': True,\n",
        "    'verbosity': 1\n",
        "}\n",
        "\n",
        "dtrain = lgb.Dataset(X_train, label=y_train, free_raw_data=False)\n",
        "\n",
        "cv_res = lgb.cv(\n",
        "    params,\n",
        "    dtrain,\n",
        "    nfold=5,\n",
        "    stratified=True,\n",
        "    shuffle=True,\n",
        "    num_boost_round=2000,\n",
        "    seed=42,\n",
        "    callbacks=[\n",
        "        lgb.early_stopping(stopping_rounds=30),\n",
        "        lgb.log_evaluation(period=50)\n",
        "    ]\n",
        ")"
      ],
      "metadata": {
        "id": "f7ZD8G1I-fcZ"
      },
      "execution_count": null,
      "outputs": []
    },
    {
      "cell_type": "markdown",
      "source": [
        "### Получаем лучший iter"
      ],
      "metadata": {
        "id": "ZJUyeFB1-o3h"
      }
    },
    {
      "cell_type": "code",
      "source": [
        "mean_key = next(k for k in cv_res if k.endswith('-mean'))\n",
        "best_iter = len(cv_res[mean_key])\n",
        "print(f\"Best CV rounds: {best_iter}, CV AUC: {cv_res[mean_key][-1]:.5f}\")"
      ],
      "metadata": {
        "id": "L4f26Y4R-qGu"
      },
      "execution_count": null,
      "outputs": []
    },
    {
      "cell_type": "markdown",
      "source": [
        "## Финальное обучение и проверка на train"
      ],
      "metadata": {
        "id": "WTeGE1ff-1gD"
      }
    },
    {
      "cell_type": "code",
      "source": [
        "model = lgb.train(params, dtrain, num_boost_round=best_iter)\n",
        "train_preds = model.predict(X_train)\n",
        "print(\"Train ROC‑AUC:\", roc_auc_score(y_train, train_preds))"
      ],
      "metadata": {
        "id": "ibK6yQ3a-1vH"
      },
      "execution_count": null,
      "outputs": []
    },
    {
      "cell_type": "markdown",
      "source": [
        "## Предсказания на тесте"
      ],
      "metadata": {
        "id": "a1o7nc2B-9Zq"
      }
    },
    {
      "cell_type": "code",
      "source": [
        "preds = model.predict(X_test)\n",
        "submission = pd.DataFrame({'index': data_test['index'], 'score': preds})\n",
        "submission.to_csv('submission.csv', index=False)\n",
        "print(\"Предсказания для test готовы в файле submission.csv\")"
      ],
      "metadata": {
        "id": "KPBDkWgk-76f"
      },
      "execution_count": null,
      "outputs": []
    }
  ]
}